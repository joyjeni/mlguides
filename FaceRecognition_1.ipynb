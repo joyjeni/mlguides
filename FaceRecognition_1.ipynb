{
  "nbformat": 4,
  "nbformat_minor": 0,
  "metadata": {
    "colab": {
      "name": "FaceRecognition_1.ipynb",
      "provenance": [],
      "private_outputs": true,
      "authorship_tag": "ABX9TyMu8FqTAVpOlZRmJukP3aKs",
      "include_colab_link": true
    },
    "kernelspec": {
      "name": "python3",
      "display_name": "Python 3"
    },
    "accelerator": "GPU"
  },
  "cells": [
    {
      "cell_type": "markdown",
      "metadata": {
        "id": "view-in-github",
        "colab_type": "text"
      },
      "source": [
        "<a href=\"https://colab.research.google.com/github/joyjeni/mlguides/blob/master/FaceRecognition_1.ipynb\" target=\"_parent\"><img src=\"https://colab.research.google.com/assets/colab-badge.svg\" alt=\"Open In Colab\"/></a>"
      ]
    },
    {
      "cell_type": "code",
      "metadata": {
        "id": "GmlJdOS4OsvA",
        "colab_type": "code",
        "colab": {}
      },
      "source": [
        "# Mount drive\n",
        "from google.colab import drive\n",
        "drive.mount('/content/drive')\n",
        "\n",
        "import os\n",
        "os.chdir('./drive/My Drive/pluralsight_guides/facenet/FaceRecognition/')"
      ],
      "execution_count": null,
      "outputs": []
    },
    {
      "cell_type": "code",
      "metadata": {
        "id": "ltG5vlNiO4H2",
        "colab_type": "code",
        "colab": {}
      },
      "source": [
        ""
      ],
      "execution_count": null,
      "outputs": []
    },
    {
      "cell_type": "code",
      "metadata": {
        "id": "uZ-9lIm5PmB1",
        "colab_type": "code",
        "colab": {}
      },
      "source": [
        "!pip install mtcnn"
      ],
      "execution_count": null,
      "outputs": []
    },
    {
      "cell_type": "code",
      "metadata": {
        "id": "iKr8tgl2PeWw",
        "colab_type": "code",
        "colab": {}
      },
      "source": [
        "import mtcnn\n",
        "# print version\n",
        "print(mtcnn.__version__)"
      ],
      "execution_count": null,
      "outputs": []
    },
    {
      "cell_type": "code",
      "metadata": {
        "id": "oL6nj3U1Peau",
        "colab_type": "code",
        "colab": {}
      },
      "source": [
        "import numpy as np # linear algebra\n",
        "import pandas as pd # data processing, CSV file I/O (e.g. pd.read_csv)\n",
        "import cv2 # opencv\n",
        "from mtcnn.mtcnn import MTCNN\n",
        "from matplotlib import pyplot as plt\n",
        "from keras.models import load_model\n",
        "from PIL import Image"
      ],
      "execution_count": null,
      "outputs": []
    },
    {
      "cell_type": "code",
      "metadata": {
        "id": "J9FBiQbzQqb_",
        "colab_type": "code",
        "colab": {}
      },
      "source": [
        "!pwd"
      ],
      "execution_count": null,
      "outputs": []
    },
    {
      "cell_type": "code",
      "metadata": {
        "id": "hhO0Lb6IPehv",
        "colab_type": "code",
        "colab": {}
      },
      "source": [
        "import os\n",
        "print(os.listdir(\"./input\"))"
      ],
      "execution_count": null,
      "outputs": []
    },
    {
      "cell_type": "code",
      "metadata": {
        "id": "BUcTkj2ZXw8t",
        "colab_type": "code",
        "colab": {}
      },
      "source": [
        "!pwd"
      ],
      "execution_count": null,
      "outputs": []
    },
    {
      "cell_type": "markdown",
      "metadata": {
        "id": "_nvu2EcuQzeP",
        "colab_type": "text"
      },
      "source": [
        "See sample image"
      ]
    },
    {
      "cell_type": "code",
      "metadata": {
        "id": "oGd6Ant8Q1Xk",
        "colab_type": "code",
        "colab": {}
      },
      "source": [
        "img = cv2.imread('./images/Sundar_Pichai_5.jpg')\n",
        "\n",
        "plt.imshow(img)\n",
        "plt.xticks([]), plt.yticks([])  # to hide tick values on X and Y axis\n",
        "plt.show()\n",
        "print(img.shape)"
      ],
      "execution_count": null,
      "outputs": []
    },
    {
      "cell_type": "code",
      "metadata": {
        "id": "am6v6fxrYMxv",
        "colab_type": "code",
        "colab": {}
      },
      "source": [
        "def extract_face(filename, required_size=(160, 160)):\n",
        "    # load image from file\n",
        "    image = Image.open(filename)\n",
        "    # convert to RGB, if needed\n",
        "    image = image.convert('RGB')\n",
        "    # convert to array\n",
        "    pixels = np.asarray(image)\n",
        "    # create the detector, using default weights\n",
        "    detector = MTCNN()\n",
        "    # detect faces in the image\n",
        "    results = detector.detect_faces(pixels)\n",
        "    # extract the bounding box from the first face\n",
        "    x1, y1, width, height = results[0]['box']\n",
        "    # deal with negative pixel index\n",
        "    x1, y1 = abs(x1), abs(y1)\n",
        "    x2, y2 = x1 + width, y1 + height\n",
        "    # extract the face\n",
        "    face = pixels[y1:y2, x1:x2]\n",
        "    # resize pixels to the model size\n",
        "    image = Image.fromarray(face)\n",
        "    image = image.resize(required_size)\n",
        "    face_array = np.asarray(image)\n",
        "    return face_array\n"
      ],
      "execution_count": null,
      "outputs": []
    },
    {
      "cell_type": "code",
      "metadata": {
        "id": "FlPcl8j5YO69",
        "colab_type": "code",
        "colab": {}
      },
      "source": [
        "# load the photo and extract the face\n",
        "pixels = extract_face('./input/train/Sundar_Pichai/Sundar_Pichai_3.jpg')\n",
        "plt.imshow(pixels)\n",
        "plt.show()\n",
        "print(pixels.shape)"
      ],
      "execution_count": null,
      "outputs": []
    },
    {
      "cell_type": "code",
      "metadata": {
        "id": "BMASODazYcTw",
        "colab_type": "code",
        "colab": {}
      },
      "source": [
        ""
      ],
      "execution_count": null,
      "outputs": []
    },
    {
      "cell_type": "markdown",
      "metadata": {
        "id": "SZQhUrQJYdPP",
        "colab_type": "text"
      },
      "source": [
        "Apply extract_face() for all faces in the dataset"
      ]
    },
    {
      "cell_type": "code",
      "metadata": {
        "id": "PWcggG8OYiLZ",
        "colab_type": "code",
        "colab": {}
      },
      "source": [
        "def load_face(dir):\n",
        "    faces = list()\n",
        "    # enumerate files\n",
        "    for filename in os.listdir(dir):\n",
        "        path = dir + filename\n",
        "        face = extract_face(path)\n",
        "        faces.append(face)\n",
        "    return faces\n",
        "\n",
        "def load_dataset(dir):\n",
        "    # list for faces and labels\n",
        "    X, y = list(), list()\n",
        "    for subdir in os.listdir(dir):\n",
        "        path = dir + subdir + '/'\n",
        "        faces = load_face(path)\n",
        "        labels = [subdir for i in range(len(faces))]\n",
        "        print(\"loaded %d sample for class: %s\" % (len(faces),subdir) ) # print progress\n",
        "        X.extend(faces)\n",
        "        y.extend(labels)\n",
        "    return np.asarray(X), np.asarray(y)\n",
        "\n",
        "\n",
        "# load train dataset\n",
        "trainX, trainy = load_dataset('./input/train/')\n",
        "print(trainX.shape, trainy.shape)\n",
        "# load test dataset\n",
        "testX, testy = load_dataset('./input/val/')\n",
        "print(testX.shape, testy.shape)\n",
        "\n",
        "# save and compress the dataset for further use\n",
        "np.savez_compressed('6-engineers-faces-dataset.npz', trainX, trainy, testX, testy)"
      ],
      "execution_count": null,
      "outputs": []
    },
    {
      "cell_type": "code",
      "metadata": {
        "id": "H08nsGNvZehg",
        "colab_type": "code",
        "colab": {}
      },
      "source": [
        "# load the face dataset\n",
        "data = np.load('6-engineers-faces-dataset.npz')\n",
        "trainX, trainy, testX, testy = data['arr_0'], data['arr_1'], data['arr_2'], data['arr_3']\n",
        "print('Loaded: ', trainX.shape, trainy.shape, testX.shape, testy.shape)"
      ],
      "execution_count": null,
      "outputs": []
    },
    {
      "cell_type": "code",
      "metadata": {
        "id": "Ja2mwkVkZi0w",
        "colab_type": "code",
        "colab": {}
      },
      "source": [
        "# load the facenet model\n",
        "facenet_model = load_model('./models/facenet_keras.h5')\n",
        "print('Loaded Model')"
      ],
      "execution_count": null,
      "outputs": []
    },
    {
      "cell_type": "code",
      "metadata": {
        "id": "CagEYK5sZjGG",
        "colab_type": "code",
        "colab": {}
      },
      "source": [
        ""
      ],
      "execution_count": null,
      "outputs": []
    },
    {
      "cell_type": "markdown",
      "metadata": {
        "id": "vpF-sk78aMA7",
        "colab_type": "text"
      },
      "source": [
        "Standardizing the faces and extracting a embedding vector using the model"
      ]
    },
    {
      "cell_type": "code",
      "metadata": {
        "id": "OC6nK7YeaOKd",
        "colab_type": "code",
        "colab": {}
      },
      "source": [
        "def get_embedding(model, face):\n",
        "    # scale pixel values\n",
        "    face = face.astype('float32')\n",
        "    # standardization\n",
        "    mean, std = face.mean(), face.std()\n",
        "    face = (face-mean)/std\n",
        "    # transfer face into one sample (3 dimension to 4 dimension)\n",
        "    sample = np.expand_dims(face, axis=0)\n",
        "    # make prediction to get embedding\n",
        "    yhat = model.predict(sample)\n",
        "    return yhat[0]\n",
        "    \n",
        "# convert each face in the train set into embedding\n",
        "emdTrainX = list()\n",
        "for face in trainX:\n",
        "    emd = get_embedding(facenet_model, face)\n",
        "    emdTrainX.append(emd)\n",
        "    \n",
        "emdTrainX = np.asarray(emdTrainX)\n",
        "print(emdTrainX.shape)\n",
        "\n",
        "# convert each face in the test set into embedding\n",
        "emdTestX = list()\n",
        "for face in testX:\n",
        "    emd = get_embedding(facenet_model, face)\n",
        "    emdTestX.append(emd)\n",
        "emdTestX = np.asarray(emdTestX)\n",
        "print(emdTestX.shape)\n",
        "\n",
        "# save arrays to one file in compressed format\n",
        "np.savez_compressed('6-engineers-faces-embeddings.npz', emdTrainX, trainy, emdTestX, testy)"
      ],
      "execution_count": null,
      "outputs": []
    },
    {
      "cell_type": "code",
      "metadata": {
        "id": "u0ZCM6nCaYHE",
        "colab_type": "code",
        "colab": {}
      },
      "source": [
        "from sklearn.metrics import accuracy_score\n",
        "from sklearn.preprocessing import LabelEncoder\n",
        "from sklearn.preprocessing import Normalizer\n",
        "from sklearn.svm import SVC\n",
        "\n",
        "print(\"Dataset: train=%d, test=%d\" % (emdTrainX.shape[0], emdTestX.shape[0]))\n",
        "# normalize input vectors\n",
        "in_encoder = Normalizer()\n",
        "emdTrainX_norm = in_encoder.transform(emdTrainX)\n",
        "emdTestX_norm = in_encoder.transform(emdTestX)\n",
        "# label encode targets\n",
        "out_encoder = LabelEncoder()\n",
        "out_encoder.fit(trainy)\n",
        "trainy_enc = out_encoder.transform(trainy)\n",
        "testy_enc = out_encoder.transform(testy)\n",
        "# fit model\n",
        "model = SVC(kernel='linear', probability=True)\n",
        "model.fit(emdTrainX_norm, trainy_enc)\n",
        "# predict\n",
        "yhat_train = model.predict(emdTrainX_norm)\n",
        "yhat_test = model.predict(emdTestX_norm)\n",
        "# score\n",
        "score_train = accuracy_score(trainy_enc, yhat_train)\n",
        "score_test = accuracy_score(testy_enc, yhat_test)\n",
        "# summarize\n",
        "print('Accuracy: train=%.3f, test=%.3f' % (score_train*100, score_test*100))"
      ],
      "execution_count": null,
      "outputs": []
    },
    {
      "cell_type": "code",
      "metadata": {
        "id": "XFfpUO9oaYra",
        "colab_type": "code",
        "colab": {}
      },
      "source": [
        ""
      ],
      "execution_count": null,
      "outputs": []
    },
    {
      "cell_type": "markdown",
      "metadata": {
        "id": "OBF9TIO8akFa",
        "colab_type": "text"
      },
      "source": [
        "Randomly select a face from test set for prediction. Calculate confidence"
      ]
    },
    {
      "cell_type": "code",
      "metadata": {
        "id": "qbMsqei2aYEY",
        "colab_type": "code",
        "colab": {}
      },
      "source": [
        "from random import choice\n",
        "# select a random face from test set\n",
        "selection = choice([i for i in range(testX.shape[0])])\n",
        "random_face = testX[selection]\n",
        "random_face_emd = emdTestX_norm[selection]\n",
        "random_face_class = testy_enc[selection]\n",
        "random_face_name = out_encoder.inverse_transform([random_face_class])\n",
        "\n",
        "# prediction for the face\n",
        "samples = np.expand_dims(random_face_emd, axis=0)\n",
        "yhat_class = model.predict(samples)\n",
        "yhat_prob = model.predict_proba(samples)\n",
        "# get name\n",
        "class_index = yhat_class[0]\n",
        "class_probability = yhat_prob[0,class_index] * 100\n",
        "predict_names = out_encoder.inverse_transform(yhat_class)\n",
        "all_names = out_encoder.inverse_transform([0,1,2,3,4])\n",
        "#print('Predicted: %s (%.3f)' % (predict_names[0], class_probability))\n",
        "print('Predicted: \\n%s \\n%s' % (all_names, yhat_prob[0]*100))\n",
        "print('Expected: %s' % random_face_name[0])\n",
        "# plot face\n",
        "plt.imshow(random_face)\n",
        "title = '%s (%.3f)' % (predict_names[0], class_probability)\n",
        "plt.title(title)\n",
        "plt.show()"
      ],
      "execution_count": null,
      "outputs": []
    },
    {
      "cell_type": "code",
      "metadata": {
        "id": "tDeGZnJWi564",
        "colab_type": "code",
        "colab": {}
      },
      "source": [
        ""
      ],
      "execution_count": null,
      "outputs": []
    }
  ]
}